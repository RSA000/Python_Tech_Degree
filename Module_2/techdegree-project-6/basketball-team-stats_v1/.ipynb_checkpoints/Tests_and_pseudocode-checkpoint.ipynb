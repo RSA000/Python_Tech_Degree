{
 "cells": [
  {
   "cell_type": "raw",
   "metadata": {},
   "source": [
    "instructions:\n",
    "\n",
    "• Create new script named app.py or application.py\n",
    "• Create __name__, \"__main__\" \n",
    "• Import player data from constants.py\n",
    "• Create a \"clean_data\" function that reads the existing player data from the PLAYERS\n",
    "constants provided in constants.py\n",
    "• clean_data() should clean the player data without changing the original data\n",
    "• Change player experience to a boolean value\n",
    "• Change heights to float values"
   ]
  },
  {
   "cell_type": "code",
   "execution_count": null,
   "metadata": {},
   "outputs": [],
   "source": []
  }
 ],
 "metadata": {
  "kernelspec": {
   "display_name": "Python 3",
   "language": "python",
   "name": "python3"
  },
  "language_info": {
   "codemirror_mode": {
    "name": "ipython",
    "version": 3
   },
   "file_extension": ".py",
   "mimetype": "text/x-python",
   "name": "python",
   "nbconvert_exporter": "python",
   "pygments_lexer": "ipython3",
   "version": "3.8.5"
  }
 },
 "nbformat": 4,
 "nbformat_minor": 4
}
