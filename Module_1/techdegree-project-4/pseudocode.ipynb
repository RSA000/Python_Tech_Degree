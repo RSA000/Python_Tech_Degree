{
 "cells": [
  {
   "cell_type": "code",
   "execution_count": 1,
   "metadata": {},
   "outputs": [],
   "source": [
    "# Get two integer values from a user and output the sume of those numbers.\n",
    "\n",
    "# prompt user for number\n",
    "# if input is not a number\n",
    "    # print \"input is not a number\"\n",
    "    # prompt user for new number\n",
    "# end if\n",
    "# set num1 to user_input\n",
    "# if input is not a number\n",
    "    # print \"input is not a number\"\n",
    "    # prompt user for new number\n",
    "# end if\n",
    "# prompt user for number\n",
    "# set num2 to user_input\n",
    "# set sum to num1 + num2\n",
    "# print sum\n",
    "\n"
   ]
  },
  {
   "cell_type": "code",
   "execution_count": null,
   "metadata": {},
   "outputs": [],
   "source": []
  }
 ],
 "metadata": {
  "kernelspec": {
   "display_name": "Python 3",
   "language": "python",
   "name": "python3"
  },
  "language_info": {
   "codemirror_mode": {
    "name": "ipython",
    "version": 3
   },
   "file_extension": ".py",
   "mimetype": "text/x-python",
   "name": "python",
   "nbconvert_exporter": "python",
   "pygments_lexer": "ipython3",
   "version": "3.8.5"
  }
 },
 "nbformat": 4,
 "nbformat_minor": 4
}
