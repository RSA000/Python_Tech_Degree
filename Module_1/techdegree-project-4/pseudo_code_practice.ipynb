{
 "cells": [
  {
   "cell_type": "raw",
   "metadata": {},
   "source": [
    "# Basic function format\n",
    "\n",
    "function function_name\n",
    "\n",
    "endfunction"
   ]
  },
  {
   "cell_type": "raw",
   "metadata": {},
   "source": [
    "# Accept arguments\n",
    "\n",
    "function function_name\n",
    "    pass in num1, num2, num3\n",
    "    \n",
    "endfunction"
   ]
  },
  {
   "cell_type": "raw",
   "metadata": {},
   "source": [
    "# Return a value\n",
    "\n",
    "function sum_numbers\n",
    "    pass in num1, num2, num3\n",
    "    set results to num1 + num2 + num3\n",
    "    return r4esult\n",
    "end function"
   ]
  },
  {
   "cell_type": "raw",
   "metadata": {},
   "source": [
    "# Call a function\n",
    "\n",
    "set sum to call sum_numbers with 5,6,7"
   ]
  },
  {
   "cell_type": "raw",
   "metadata": {},
   "source": []
  }
 ],
 "metadata": {
  "kernelspec": {
   "display_name": "Python 3",
   "language": "python",
   "name": "python3"
  },
  "language_info": {
   "codemirror_mode": {
    "name": "ipython",
    "version": 3
   },
   "file_extension": ".py",
   "mimetype": "text/x-python",
   "name": "python",
   "nbconvert_exporter": "python",
   "pygments_lexer": "ipython3",
   "version": "3.8.5"
  }
 },
 "nbformat": 4,
 "nbformat_minor": 4
}
