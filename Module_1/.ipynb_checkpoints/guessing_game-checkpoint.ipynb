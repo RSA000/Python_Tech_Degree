{
 "cells": [
  {
   "cell_type": "code",
   "execution_count": null,
   "metadata": {},
   "outputs": [],
   "source": [
    "\"\"\"\n",
    "Python Web Development Techdegree\n",
    "Project 1 - Number Guessing Game\n",
    "--------------------------------\n",
    "\n",
    "For this first project we will be using Workspaces. \n",
    "\n",
    "NOTE: If you strongly prefer to work locally on your own computer, you can totally do that by clicking: File -> Download Workspace in the file menu after you fork the snapshot of this workspace.\n",
    "\n",
    "\"\"\"\n",
    "\n",
    "import random\n",
    "\n",
    "\n",
    "def start_game():\n",
    "    \"\"\"Psuedo-code Hints\n",
    "    \n",
    "    When the program starts, we want to:\n",
    "    ------------------------------------\n",
    "    1. Display an intro/welcome message to the player.\n",
    "    2. Store a random number as the answer/solution.\n",
    "    3. Continuously prompt the player for a guess.\n",
    "      a. If the guess is greater than the solution, display to the player \"It's lower\".\n",
    "      b. If the guess is less than the solution, display to the player \"It's higher\".\n",
    "    \n",
    "    4. Once the guess is correct, stop looping, inform the user they \"Got it\"\n",
    "         and show how many attempts it took them to get the correct number.\n",
    "    5. Let the player know the game is ending, or something that indicates the game is over.\n",
    "    \n",
    "    ( You can add more features/enhancements if you'd like to. )\n",
    "    \"\"\"\n",
    "    # write your code inside this function.\n",
    "\n",
    "\n",
    "\n",
    "# Kick off the program by calling the start_game function.\n",
    "start_game()"
   ]
  }
 ],
 "metadata": {
  "kernelspec": {
   "display_name": "Python 3",
   "language": "python",
   "name": "python3"
  },
  "language_info": {
   "codemirror_mode": {
    "name": "ipython",
    "version": 3
   },
   "file_extension": ".py",
   "mimetype": "text/x-python",
   "name": "python",
   "nbconvert_exporter": "python",
   "pygments_lexer": "ipython3",
   "version": "3.8.5"
  }
 },
 "nbformat": 4,
 "nbformat_minor": 4
}
