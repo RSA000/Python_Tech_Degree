{
 "cells": [
  {
   "cell_type": "code",
   "execution_count": 11,
   "metadata": {},
   "outputs": [
    {
     "name": "stdout",
     "output_type": "stream",
     "text": [
      "Welcome"
     ]
    }
   ],
   "source": [
    "from os import system, name # I tried making a flashing screen at the end using this resource https://www.codespeedy.com/clear-screen-in-python/ \n",
    "from time import sleep\n",
    "\n",
    "def title_printer(list):\n",
    "    for letter in list:\n",
    "        print(letter, end='')\n",
    "        sleep(0.25)\n",
    "\n",
    "title_printer('Welcome')"
   ]
  },
  {
   "cell_type": "code",
   "execution_count": 22,
   "metadata": {},
   "outputs": [
    {
     "name": "stdout",
     "output_type": "stream",
     "text": [
      "hello\n",
      "hello!\n",
      "hello!!\n"
     ]
    }
   ],
   "source": [
    "def ending_message(string, exc=3):\n",
    "    for i in range(exc):\n",
    "        print(string+('!'*i))\n",
    "        sleep(0.3)\n",
    "    system('clear')\n",
    "\n",
    "ending_message('hello')"
   ]
  },
  {
   "cell_type": "code",
   "execution_count": null,
   "metadata": {},
   "outputs": [],
   "source": []
  }
 ],
 "metadata": {
  "kernelspec": {
   "display_name": "Python 3",
   "language": "python",
   "name": "python3"
  },
  "language_info": {
   "codemirror_mode": {
    "name": "ipython",
    "version": 3
   },
   "file_extension": ".py",
   "mimetype": "text/x-python",
   "name": "python",
   "nbconvert_exporter": "python",
   "pygments_lexer": "ipython3",
   "version": "3.8.5"
  }
 },
 "nbformat": 4,
 "nbformat_minor": 4
}
