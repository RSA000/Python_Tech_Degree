{
 "cells": [
  {
   "cell_type": "code",
   "execution_count": null,
   "metadata": {},
   "outputs": [
    {
     "name": "stdin",
     "output_type": "stream",
     "text": [
      "Add a player to your team? (yes/no) \n",
      " yes\n",
      "please input players name \n",
      " john\n",
      "Add a player to your team? (yes/no) \n",
      " yes\n",
      "please input players name \n",
      " john\n"
     ]
    }
   ],
   "source": [
    "import os\n",
    "\n",
    "# TODO Create an empty list to maintain the player names\n",
    "player_names = []\n",
    "\n",
    "# TODO Ask the user if they'd like to add players to the list.\n",
    "# If the user answers \"Yes\", let them type in a name and add it to the list.\n",
    "# If the user answers \"No\", print out the team 'roster'\n",
    "while True:\n",
    "    if input('Add a player to your team? (yes/no) \\n') == 'yes':\n",
    "        player_names.append(input('please input players name \\n'))\n",
    "        os.system('cls||clear')\n",
    "        continue\n",
    "    else:\n",
    "        print(player_names)\n",
    "        print('Total number of players: ', len(player_names), '\\n\\n')\n",
    "        for player in range(len(player_names)):\n",
    "            print(f\"player number for {player_names[player]}: \", player+1)\n",
    "        print('\\n\\n')\n",
    "            \n",
    "        goalkeeper = input('please choose a goalkeeper using the players number')\n",
    "        print('The goalkeeper is ', player_names[(int(goalkeeper)-1)])\n",
    "        break\n"
   ]
  },
  {
   "cell_type": "code",
   "execution_count": null,
   "metadata": {},
   "outputs": [],
   "source": []
  }
 ],
 "metadata": {
  "kernelspec": {
   "display_name": "Python 3",
   "language": "python",
   "name": "python3"
  },
  "language_info": {
   "codemirror_mode": {
    "name": "ipython",
    "version": 3
   },
   "file_extension": ".py",
   "mimetype": "text/x-python",
   "name": "python",
   "nbconvert_exporter": "python",
   "pygments_lexer": "ipython3",
   "version": "3.8.5"
  }
 },
 "nbformat": 4,
 "nbformat_minor": 4
}
