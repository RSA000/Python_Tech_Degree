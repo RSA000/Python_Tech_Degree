{
 "cells": [
  {
   "cell_type": "code",
   "execution_count": 1,
   "metadata": {},
   "outputs": [],
   "source": [
    "import random"
   ]
  },
  {
   "cell_type": "code",
   "execution_count": 2,
   "metadata": {},
   "outputs": [
    {
     "name": "stdout",
     "output_type": "stream",
     "text": [
      "7\n"
     ]
    }
   ],
   "source": [
    "num = random.randrange(10)\n",
    "print(num)"
   ]
  },
  {
   "cell_type": "code",
   "execution_count": 3,
   "metadata": {},
   "outputs": [
    {
     "name": "stdout",
     "output_type": "stream",
     "text": [
      "74\n"
     ]
    }
   ],
   "source": [
    "num = random.randrange(50, 101)\n",
    "print(num)"
   ]
  },
  {
   "cell_type": "code",
   "execution_count": 5,
   "metadata": {},
   "outputs": [
    {
     "name": "stdout",
     "output_type": "stream",
     "text": [
      "7\n"
     ]
    }
   ],
   "source": [
    "num = random.randint(1, 10)\n",
    "print(num)"
   ]
  },
  {
   "cell_type": "code",
   "execution_count": 6,
   "metadata": {},
   "outputs": [
    {
     "name": "stdout",
     "output_type": "stream",
     "text": [
      "Booger\n",
      "original list: ['Jethro', 'Kota', 'Booger', 'Melon']\n",
      "shuffled list: ['Jethro', 'Booger', 'Melon', 'Kota']\n"
     ]
    }
   ],
   "source": [
    "treehouse_pets = ['Jethro', 'Kota', 'Booger', 'Melon']\n",
    "\n",
    "choice = random.choice(treehouse_pets)\n",
    "print(choice)\n",
    "\n",
    "print(f'original list: {treehouse_pets}')\n",
    "random.shuffle(treehouse_pets)\n",
    "print(f'shuffled list: {treehouse_pets}')"
   ]
  },
  {
   "cell_type": "code",
   "execution_count": 17,
   "metadata": {},
   "outputs": [
    {
     "name": "stdout",
     "output_type": "stream",
     "text": [
      "['chew bubblegum', 'kick ass']\n"
     ]
    }
   ],
   "source": [
    "things_to_do = ['kick ass', 'chew bubblegum']\n",
    "random.shuffle(things_to_do)\n",
    "print(things_to_do)"
   ]
  },
  {
   "cell_type": "code",
   "execution_count": 29,
   "metadata": {},
   "outputs": [
    {
     "name": "stdout",
     "output_type": "stream",
     "text": [
      "kick ass\n"
     ]
    }
   ],
   "source": [
    "things_to_do = ['kick ass', 'chew bubblegum']\n",
    "print(random.choice(things_to_do))"
   ]
  },
  {
   "cell_type": "code",
   "execution_count": null,
   "metadata": {},
   "outputs": [],
   "source": []
  }
 ],
 "metadata": {
  "kernelspec": {
   "display_name": "Python 3",
   "language": "python",
   "name": "python3"
  },
  "language_info": {
   "codemirror_mode": {
    "name": "ipython",
    "version": 3
   },
   "file_extension": ".py",
   "mimetype": "text/x-python",
   "name": "python",
   "nbconvert_exporter": "python",
   "pygments_lexer": "ipython3",
   "version": "3.8.5"
  }
 },
 "nbformat": 4,
 "nbformat_minor": 4
}
